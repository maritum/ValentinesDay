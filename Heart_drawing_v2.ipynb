{
 "cells": [
  {
   "cell_type": "code",
   "execution_count": 1,
   "metadata": {
    "ExecuteTime": {
     "end_time": "2023-02-03T07:18:23.312348Z",
     "start_time": "2023-02-03T07:18:23.232194Z"
    }
   },
   "outputs": [],
   "source": [
    "# Importing turtle library to draw \"I Love You\"\n",
    "import turtle"
   ]
  },
  {
   "cell_type": "code",
   "execution_count": 2,
   "metadata": {
    "ExecuteTime": {
     "end_time": "2023-02-03T07:18:23.340561Z",
     "start_time": "2023-02-03T07:18:23.315357Z"
    }
   },
   "outputs": [],
   "source": [
    "# Creating a pause function to pause the cursor\n",
    "def pause():\n",
    "    t.speed(10000000)\n",
    "    for i in range(100):\n",
    "        t.left(90)\n",
    "\n",
    "\n",
    "# Function to write \"I\" inside heart\n",
    "def write_I_inside_heart():\n",
    "\n",
    "    t.penup()\n",
    "    # Co-ordinates where we have to write \"I\"\n",
    "    t.goto(-150, 15)\n",
    "    # Setting the text color of our text\n",
    "    t.pencolor(\"#FFFFFF\")\n",
    "    # Adding the text and changing the font of our text\n",
    "    t.write(\"I\", font=(\"Helevetica\", 54, \"bold\"))\n",
    "\n",
    "\n",
    "\n",
    "# Function to write \"Love\" inside heart\n",
    "def write_Love_inside_heart():\n",
    "\n",
    "    t.penup()\n",
    "\n",
    "    # Co-ordinates where we have to write \"Love\"\n",
    "    t.goto(-100, 15)\n",
    "\n",
    "    # Setting the text color of our text\n",
    "    t.pencolor(\"#FFFFFF\")\n",
    "\n",
    "    # Adding the text and changing the font of our text\n",
    "    t.write(\"Love\", font=(\"Helevetica\", 54, \"bold\"))\n",
    "\n",
    "\n",
    "# Function to write \"You\" inside heart\n",
    "def write_you_inside_heart():\n",
    "\n",
    "    t.penup()\n",
    "\n",
    "    # Co-ordinates where we have to write \"You\"\n",
    "    t.goto(30, 15)\n",
    "\n",
    "    # Setting the text color of our text\n",
    "    t.pencolor(\"#FFFFFF\")\n",
    "\n",
    "    # Adding the text and changing the font of our text\n",
    "    t.write(\"You\", font=(\"Helevetica\", 54, \"bold\"))\n",
    "\n",
    "\n",
    "# Method to draw a heart\n",
    "def draw_complete_heart():\n",
    "    # Set the fill color to #FF0000\n",
    "    t.fillcolor(\"#FF0000\")\n",
    "\n",
    "    # Start filling the color\n",
    "    t.begin_fill()\n",
    "\n",
    "    # Draw the left line\n",
    "    t.left(140)\n",
    "    t.forward(294)\n",
    "\n",
    "    # Calling the function to draw left curve of our heart\n",
    "    draw_left_curve_of_heart()\n",
    "\n",
    "    # Draw the left line\n",
    "    t.right(190)\n",
    "\n",
    "    # Calling the function to draw right curve of our heart\n",
    "    draw_right_curve_of_heart()\n",
    "\n",
    "    # Draw the right line\n",
    "    t.forward(294)\n",
    "\n",
    "    # Ending the filling of the color\n",
    "    t.end_fill()\n",
    "\n",
    "\n",
    "# Defining a method to draw left curve\n",
    "def draw_left_curve_of_heart():\n",
    "\n",
    "    t.speed(50)\n",
    "    # For Loop for creating left curves\n",
    "    for i in range(450):\n",
    "        t.right(0.5)\n",
    "        t.forward(1.2)\n",
    "\n",
    "\n",
    "# Defining a method to draw right curve\n",
    "def draw_right_curve_of_heart():\n",
    "\n",
    "    t.speed(50)\n",
    "    # For Loop for creating right curves\n",
    "    for i in range(450):\n",
    "        t.right(0.5)\n",
    "        t.forward(1.2)"
   ]
  },
  {
   "cell_type": "code",
   "execution_count": 3,
   "metadata": {
    "ExecuteTime": {
     "end_time": "2023-02-03T07:18:24.799253Z",
     "start_time": "2023-02-03T07:18:23.349426Z"
    }
   },
   "outputs": [],
   "source": [
    "t = turtle.Turtle()\n",
    "wn = turtle.Screen()\n",
    "t.shape(\"turtle\")\n",
    "wn.bgcolor(\"lavender\")"
   ]
  },
  {
   "cell_type": "code",
   "execution_count": 4,
   "metadata": {
    "ExecuteTime": {
     "end_time": "2023-02-03T07:19:02.971460Z",
     "start_time": "2023-02-03T07:18:24.805756Z"
    }
   },
   "outputs": [
    {
     "data": {
      "text/plain": [
       "<function turtle.mainloop()>"
      ]
     },
     "execution_count": 4,
     "metadata": {},
     "output_type": "execute_result"
    }
   ],
   "source": [
    "# Changing start position of our turtle cursor\n",
    "t.penup()\n",
    "t.goto(0, -200)\n",
    "t.pendown()\n",
    "t.speed(100000000)\n",
    "\n",
    "# Calling a Function to Draw a complete Heart Background\n",
    "draw_complete_heart()\n",
    "\n",
    "# Calling a Function to write \"I\" Inside our hearth Background\n",
    "write_I_inside_heart()\n",
    "\n",
    "# Calling a Function to write \"Love\" Inside our hearth Background\n",
    "write_Love_inside_heart()\n",
    "\n",
    "# Calling a Function to write \"You\" Inside our hearth Background\n",
    "write_you_inside_heart()\n",
    "\n",
    "turtle.done"
   ]
  },
  {
   "cell_type": "code",
   "execution_count": null,
   "metadata": {},
   "outputs": [],
   "source": []
  },
  {
   "cell_type": "code",
   "execution_count": null,
   "metadata": {},
   "outputs": [],
   "source": []
  }
 ],
 "metadata": {
  "hide_input": false,
  "kernelspec": {
   "display_name": "Python 3",
   "language": "python",
   "name": "python3"
  },
  "language_info": {
   "codemirror_mode": {
    "name": "ipython",
    "version": 3
   },
   "file_extension": ".py",
   "mimetype": "text/x-python",
   "name": "python",
   "nbconvert_exporter": "python",
   "pygments_lexer": "ipython3",
   "version": "3.8.5"
  },
  "toc": {
   "base_numbering": 1,
   "nav_menu": {},
   "number_sections": true,
   "sideBar": true,
   "skip_h1_title": false,
   "title_cell": "Table of Contents",
   "title_sidebar": "Contents",
   "toc_cell": false,
   "toc_position": {},
   "toc_section_display": true,
   "toc_window_display": false
  }
 },
 "nbformat": 4,
 "nbformat_minor": 4
}
