{
 "cells": [
  {
   "cell_type": "code",
   "execution_count": 1,
   "metadata": {
    "ExecuteTime": {
     "end_time": "2023-02-03T06:56:48.149628Z",
     "start_time": "2023-02-03T06:56:47.980529Z"
    }
   },
   "outputs": [],
   "source": [
    "## Library import\n",
    "\n",
    "from math import sin, pi\n",
    "import turtle"
   ]
  },
  {
   "cell_type": "code",
   "execution_count": 2,
   "metadata": {
    "ExecuteTime": {
     "end_time": "2023-02-03T06:56:48.713090Z",
     "start_time": "2023-02-03T06:56:48.661938Z"
    }
   },
   "outputs": [],
   "source": [
    "## Helper Functions\n",
    "\n",
    "def color(iteration):\n",
    "    t.pencolor(colors[iteration % len(colors)])\n",
    "    \n",
    "def at(x, y):\n",
    "    t.penup()\n",
    "    t.home()\n",
    "    t.forward(x)\n",
    "    t.left(90)\n",
    "    t.forward(y)\n",
    "    t.pendown()\n",
    "\n",
    "def heart(size, shape):\n",
    "    t.pensize(5)\n",
    "    radius = size * sin(shape * pi / 180) / (1 + sin((90 - shape) * pi / 180))\n",
    "    t.right(shape)\n",
    "    t.forward(size)\n",
    "    t.circle(radius, 180 + shape)\n",
    "    t.right(180)\n",
    "    t.circle(radius, 180 + shape)\n",
    "    t.forward(size)\n",
    "    t.left(180 - shape)\n",
    "\n",
    "def hearts():\n",
    "    turtle.delay(0)\n",
    "    for iteration in range(1, 14):\n",
    "        color(iteration)\n",
    "        at(0, iteration * -5)\n",
    "        heart(iteration * 10, 45)"
   ]
  },
  {
   "cell_type": "code",
   "execution_count": 3,
   "metadata": {
    "ExecuteTime": {
     "end_time": "2023-02-03T06:57:08.752118Z",
     "start_time": "2023-02-03T06:56:49.206247Z"
    }
   },
   "outputs": [],
   "source": [
    "t = turtle.Turtle()\n",
    "wn = turtle.Screen()\n",
    "t.shape(\"turtle\")\n",
    "wn.bgcolor(\"lavender\")\n",
    "t.speed(10000000)\n",
    "\n",
    "colors = [\"red\", \"orange\", \"yellow\", \"green\", \"light blue\", \"blue\", \"purple\"]\n",
    "       \n",
    "hearts()\n",
    "\n",
    "t.penup()\n",
    "t.goto(0,-150)\n",
    "t.color(\"red\")\n",
    "t.write(\"I LOVE YOU!\", None, \"center\",font=(\"Arial\", 32, \"normal\"))\n",
    "t.goto(1,-125)\n",
    "t.goto(0,-200)\n",
    "\n",
    "turtle.done()"
   ]
  },
  {
   "cell_type": "code",
   "execution_count": null,
   "metadata": {},
   "outputs": [],
   "source": []
  }
 ],
 "metadata": {
  "hide_input": false,
  "kernelspec": {
   "display_name": "Python 3",
   "language": "python",
   "name": "python3"
  },
  "language_info": {
   "codemirror_mode": {
    "name": "ipython",
    "version": 3
   },
   "file_extension": ".py",
   "mimetype": "text/x-python",
   "name": "python",
   "nbconvert_exporter": "python",
   "pygments_lexer": "ipython3",
   "version": "3.8.5"
  },
  "toc": {
   "base_numbering": 1,
   "nav_menu": {},
   "number_sections": true,
   "sideBar": true,
   "skip_h1_title": false,
   "title_cell": "Table of Contents",
   "title_sidebar": "Contents",
   "toc_cell": false,
   "toc_position": {},
   "toc_section_display": true,
   "toc_window_display": false
  }
 },
 "nbformat": 4,
 "nbformat_minor": 4
}
